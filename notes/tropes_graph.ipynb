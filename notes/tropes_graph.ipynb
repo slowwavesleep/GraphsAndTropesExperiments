{
 "cells": [
  {
   "cell_type": "code",
   "execution_count": 70,
   "metadata": {},
   "outputs": [],
   "source": [
    "from bs4 import BeautifulSoup as bs\n",
    "import requests"
   ]
  },
  {
   "cell_type": "markdown",
   "metadata": {},
   "source": [
    "Creating tools to parse attributes from individual pages"
   ]
  },
  {
   "cell_type": "code",
   "execution_count": 2,
   "metadata": {},
   "outputs": [],
   "source": [
    "BASE_URL = 'https://allthetropes.fandom.com'"
   ]
  },
  {
   "cell_type": "code",
   "execution_count": 3,
   "metadata": {},
   "outputs": [],
   "source": [
    "USER_AGENT = {'User-agent':\n",
    "              'Mozilla/5.0 (Windows NT 10.0; Win64; x64) AppleWebKit/537.36 (KHTML, like Gecko) Chrome/74.0.3729.169 Safari/537.36'}"
   ]
  },
  {
   "cell_type": "code",
   "execution_count": 4,
   "metadata": {},
   "outputs": [],
   "source": [
    "def get_page_html(name):\n",
    "    global BASE_URL\n",
    "    global USER_AGENT\n",
    "    url = BASE_URL + '/wiki/' + name\n",
    "    html = requests.get(url, headers=USER_AGENT).text\n",
    "    return bs(html)"
   ]
  },
  {
   "cell_type": "code",
   "execution_count": 5,
   "metadata": {},
   "outputs": [],
   "source": [
    "def get_keywords(page):\n",
    "    return page.find('meta', {'name':'keywords'})['content']"
   ]
  },
  {
   "cell_type": "code",
   "execution_count": 537,
   "metadata": {},
   "outputs": [],
   "source": [
    "def parse_references(p):\n",
    "    refs = p.findAll('a')\n",
    "    d = {}\n",
    "    for ref in refs:\n",
    "        try:\n",
    "            title = ref['title']\n",
    "            href = ref['href']\n",
    "            d[href] = title\n",
    "        except:\n",
    "            pass\n",
    "    return d"
   ]
  },
  {
   "cell_type": "code",
   "execution_count": 377,
   "metadata": {},
   "outputs": [],
   "source": [
    "def get_examples(page):\n",
    "    examples = page.find('div', id='mw-content-text').findAll('ul')[0].findAll('li')\n",
    "    example_refs = {}\n",
    "    for example in examples:\n",
    "        text = example.text.strip('\\n')\n",
    "        text = text.replace('\\xa0', ' ')\n",
    "        text = text.replace('\"', '')\n",
    "        ref = example.findAll('a')\n",
    "        try:\n",
    "            ref = ref[0]['href']\n",
    "            example_refs[ref] = text\n",
    "        except:\n",
    "            pass\n",
    "    return example_refs"
   ]
  },
  {
   "cell_type": "code",
   "execution_count": 378,
   "metadata": {},
   "outputs": [],
   "source": [
    "def parse_text(page):\n",
    "    paras = page.find('div', id='mw-content-text').findAll('p')\n",
    "    description = []\n",
    "    references = {}\n",
    "    for p in paras:\n",
    "        description.append(p.text.strip('\\n').replace('\\xa0', ' ').replace('\"', ''))\n",
    "        references.update(parse_references(p))\n",
    "    return ''.join(description), references"
   ]
  },
  {
   "cell_type": "code",
   "execution_count": 379,
   "metadata": {},
   "outputs": [],
   "source": [
    "test = get_page_html('The_Witcher')"
   ]
  },
  {
   "cell_type": "code",
   "execution_count": 155,
   "metadata": {},
   "outputs": [],
   "source": [
    "def get_page_attributes(name):\n",
    "    page = get_page_html(name)\n",
    "    identifier = '/wiki/' + name\n",
    "    description, references = parse_text(page)\n",
    "    examples = get_examples(page)\n",
    "    keywords = get_keywords(page)\n",
    "    return identifier, description, references, examples, keywords"
   ]
  },
  {
   "cell_type": "markdown",
   "metadata": {},
   "source": [
    "Connecting to neo4j DB"
   ]
  },
  {
   "cell_type": "code",
   "execution_count": 325,
   "metadata": {},
   "outputs": [],
   "source": [
    "from neo4j import GraphDatabase, basic_auth"
   ]
  },
  {
   "cell_type": "code",
   "execution_count": 73,
   "metadata": {},
   "outputs": [],
   "source": [
    "driver = GraphDatabase.driver(\"bolt://0.0.0.0:7687\",\n",
    "                              basic_auth=(\"neo4j\", \"neo4j\"),\n",
    "                              encrypted=False)"
   ]
  },
  {
   "cell_type": "code",
   "execution_count": 327,
   "metadata": {},
   "outputs": [],
   "source": [
    "session = driver.session()"
   ]
  },
  {
   "cell_type": "code",
   "execution_count": 429,
   "metadata": {},
   "outputs": [],
   "source": [
    "identifier, description, references, examples, keywords = get_page_attributes('The_Witcher')"
   ]
  },
  {
   "cell_type": "code",
   "execution_count": 444,
   "metadata": {},
   "outputs": [],
   "source": [
    "def add_node(identificator, keywords):\n",
    "    global session\n",
    "    ref = f'ref:\"{identifier}\"'\n",
    "    kws = str(keywords.split(','))\n",
    "    query = 'MERGE(p:page{' + ref + '})'\n",
    "    query += '\\n' + f'SET p.keywords = {kws}'\n",
    "    session.run(query)\n",
    "   # print(query)"
   ]
  },
  {
   "cell_type": "code",
   "execution_count": 433,
   "metadata": {},
   "outputs": [
    {
     "name": "stdout",
     "output_type": "stream",
     "text": [
      "MERGE(p:page{ref:\"/wiki/The_Witcher\"})\n",
      "SET p.keywords = ['All The Tropes Wiki', 'allthetropes', 'The Witcher', 'Video Game', 'Shut UP', ' Hannibal', 'Vendor Trash', 'True Neutral', 'The Verse', 'The Witcher 2: Assassins of Kings', 'Karma Houdini', 'Anti-Hero', 'Aristocrats Are Evil', 'Complete Monster']\n"
     ]
    }
   ],
   "source": [
    "add_node('/wiki/The_Witcher', keywords)"
   ]
  },
  {
   "cell_type": "code",
   "execution_count": 445,
   "metadata": {},
   "outputs": [],
   "source": [
    "def add_reference(identifier, references):\n",
    "    global session\n",
    "    base_node = f'ref:\"{identifier}\"'\n",
    "    for reference in references.items():\n",
    "        ref_node = f'ref:\"{reference[0]}\"'\n",
    "        query = 'MATCH(a:page{' + f'{base_node}' + '})'\n",
    "        query += '\\n' + 'MERGE(a)-[r:REFERS_TO{text:' + f'\"{reference[1]}\"' + '}]->' + \\\n",
    "        '(b:page{' + f'{ref_node}' + '})'\n",
    "       # print(query)\n",
    "        session.run(query)\n"
   ]
  },
  {
   "cell_type": "code",
   "execution_count": 434,
   "metadata": {},
   "outputs": [
    {
     "name": "stdout",
     "output_type": "stream",
     "text": [
      "MATCH(a:page{ref:\"/wiki/The_Witcher\"})\n",
      "MERGE(a)-[r:REFERS_TO{text:\"Neverwinter Nights\"}]->(b:page{ref:\"/wiki/Neverwinter_Nights\"})\n",
      "MATCH(a:page{ref:\"/wiki/The_Witcher\"})\n",
      "MERGE(a)-[r:REFERS_TO{text:\"The Verse\"}]->(b:page{ref:\"/wiki/The_Verse\"})\n",
      "MATCH(a:page{ref:\"/wiki/The_Witcher\"})\n",
      "MERGE(a)-[r:REFERS_TO{text:\"The Witcher 2: Assassins of Kings\"}]->(b:page{ref:\"/wiki/The_Witcher_2:_Assassins_of_Kings\"})\n",
      "MATCH(a:page{ref:\"/wiki/The_Witcher\"})\n",
      "MERGE(a)-[r:REFERS_TO{text:\"The Witcher/Characters\"}]->(b:page{ref:\"/wiki/The_Witcher/Characters\"})\n",
      "MATCH(a:page{ref:\"/wiki/The_Witcher\"})\n",
      "MERGE(a)-[r:REFERS_TO{text:\"Shut UP, Hannibal\"}]->(b:page{ref:\"/wiki/Shut_UP,_Hannibal\"})\n"
     ]
    }
   ],
   "source": [
    "add_reference('/wiki/The_Witcher', references)"
   ]
  },
  {
   "cell_type": "code",
   "execution_count": 435,
   "metadata": {},
   "outputs": [
    {
     "name": "stdout",
     "output_type": "stream",
     "text": [
      "MATCH(a:page{ref:\"/wiki/The_Witcher\"})\n",
      "MERGE(a)-[r:REFERS_TO{text:\" Action Commands: Sword attacks are chained with correctly timed mouse-clicks.\"}]->(b:page{ref:\"/wiki/Action_Commands\"})\n",
      "MATCH(a:page{ref:\"/wiki/The_Witcher\"})\n",
      "MERGE(a)-[r:REFERS_TO{text:\" Ambiguously Evil: Possibly Abigail. There's evidence to suggest that the accusations levied against her may have some merit, and she's implied to be a member of the Cult of the Lionheaded Spider. However, Abigail always proves to be helpful to Geralt and appears to be harmless when left alone.\"}]->(b:page{ref:\"/wiki/Ambiguously_Evil\"})\n",
      "MATCH(a:page{ref:\"/wiki/The_Witcher\"})\n",
      "MERGE(a)-[r:REFERS_TO{text:\" And That's Terrible: Every character (even the addicts, worried about their supply) give significant condemnation at Salamandra taking control of the drug trade. Very out of place in a World Half Empty where rapists are Karma Houdinis.\n",
      " However, it is due to the fact that Salamandra is taking over the market with the drug trade as opposed to any moral reasons.\"}]->(b:page{ref:\"/wiki/And_That%27s_Terrible\"})\n",
      "MATCH(a:page{ref:\"/wiki/The_Witcher\"})\n",
      "MERGE(a)-[r:REFERS_TO{text:\" Anti-Hero: Geralt.\"}]->(b:page{ref:\"/wiki/Anti-Hero\"})\n",
      "MATCH(a:page{ref:\"/wiki/The_Witcher\"})\n",
      "MERGE(a)-[r:REFERS_TO{text:\" Aristocrats Are Evil: Boy howdy. There's nary a single blueblood who's not a Complete Monster or an all-around jerk. Then again, same goes for common-folk.\"}]->(b:page{ref:\"/wiki/Aristocrats_Are_Evil\"})\n",
      "MATCH(a:page{ref:\"/wiki/The_Witcher\"})\n",
      "MERGE(a)-[r:REFERS_TO{text:\" Arrow Catch: Played with. The Professor comments on rumours that witchers are trained to catch arrows in flight, just before he shoots Leo. Geralt can learn to catch arrows, and demonstrates this in a cutscene by parrying a crossbow bolt, causing the Professor to realize that the rumors were true.\"}]->(b:page{ref:\"/wiki/Arrow_Catch\"})\n",
      "MATCH(a:page{ref:\"/wiki/The_Witcher\"})\n",
      "MERGE(a)-[r:REFERS_TO{text:\" Artificial Atmospheric Actions: The initial release's stiff animations and dull faces caused NPC interactions to range from disenchanting to freaky. Fixed in the Enhanced Edition, which significantly expanded and improved the animation and expression.\"}]->(b:page{ref:\"/wiki/Artificial_Atmospheric_Actions\"})\n",
      "MATCH(a:page{ref:\"/wiki/The_Witcher\"})\n",
      "MERGE(a)-[r:REFERS_TO{text:\" Badass Bookworm: A villainous example with the Professor, though we never see much of his Professor-ness.\n",
      " In the original he is called Magister and is prone to Sesquipedalian Loquaciousness.\"}]->(b:page{ref:\"/wiki/Badass_Bookworm\"})\n",
      "MATCH(a:page{ref:\"/wiki/The_Witcher\"})\n",
      "MERGE(a)-[r:REFERS_TO{text:\" In the original he is called Magister and is prone to Sesquipedalian Loquaciousness.\"}]->(b:page{ref:\"/wiki/Sesquipedalian_Loquaciousness\"})\n",
      "MATCH(a:page{ref:\"/wiki/The_Witcher\"})\n",
      "MERGE(a)-[r:REFERS_TO{text:\" Badass Normal: Despite not being a mutant or using magic, Siegfried and other flaming rose members are still competent at fighting monsters.\"}]->(b:page{ref:\"/wiki/Badass_Normal\"})\n",
      "MATCH(a:page{ref:\"/wiki/The_Witcher\"})\n",
      "MERGE(a)-[r:REFERS_TO{text:\" Batman Gambit: Geralt orchestrates a hilarious one in the first game. He uses Triss's jealousy and anger to ensure his escape when confronted by Princess Adda: he asks for a kiss as a last wish and the sorceress teleports him on the double.\"}]->(b:page{ref:\"/wiki/Batman_Gambit\"})\n",
      "MATCH(a:page{ref:\"/wiki/The_Witcher\"})\n",
      "MERGE(a)-[r:REFERS_TO{text:\" Battle in the Center of the Mind: The finale. Unusual in that it occurs in the Big Bad's mind.\"}]->(b:page{ref:\"/wiki/Battle_in_the_Center_of_the_Mind\"})\n",
      "MATCH(a:page{ref:\"/wiki/The_Witcher\"})\n",
      "MERGE(a)-[r:REFERS_TO{text:\" Betting Minigame: Dice Poker and fist-fighting.\"}]->(b:page{ref:\"/wiki/Betting_Minigame\"})\n",
      "MATCH(a:page{ref:\"/wiki/The_Witcher\"})\n",
      "MERGE(a)-[r:REFERS_TO{text:\" Betty and Veronica: Shani (a pretty, sweet healer) and Triss (a sexy, scheming sorceress). In the sequel, Triss is the canonical choice.\"}]->(b:page{ref:\"/wiki/Betty_and_Veronica\"})\n",
      "MATCH(a:page{ref:\"/wiki/The_Witcher\"})\n",
      "MERGE(a)-[r:REFERS_TO{text:\" Bonus Boss: Regularly throughout the game, in the form of trophy hunts. Also immediately after beating the Big Bad, you have the option to fight what amounts to be the personification of Death itself to deliver the coup-de-grace.\"}]->(b:page{ref:\"/wiki/Bonus_Boss\"})\n",
      "MATCH(a:page{ref:\"/wiki/The_Witcher\"})\n",
      "MERGE(a)-[r:REFERS_TO{text:\" Broken Bridge: Typically for a story-driven RPG, there are lots of straightforward examples. An aversion stands out, however - there is a literal broken bridge in Murky Waters. An NPC is busy repairing it, there is a quest to help him, but he won't finish it nor make any measurable progress before you leave the village in the other direction.\"}]->(b:page{ref:\"/wiki/Broken_Bridge\"})\n",
      "MATCH(a:page{ref:\"/wiki/The_Witcher\"})\n",
      "MERGE(a)-[r:REFERS_TO{text:\" Capital City: Vizima, especially the temple district.\"}]->(b:page{ref:\"/wiki/Capital_City\"})\n",
      "MATCH(a:page{ref:\"/wiki/The_Witcher\"})\n",
      "MERGE(a)-[r:REFERS_TO{text:\" Casanova: Geralt can sleep with about twenty different women throughout the game.\"}]->(b:page{ref:\"/wiki/Casanova\"})\n",
      "MATCH(a:page{ref:\"/wiki/The_Witcher\"})\n",
      "MERGE(a)-[r:REFERS_TO{text:\" Chaste Hero: Siegfried of Denesle, your main Order contact.\"}]->(b:page{ref:\"/wiki/Chaste_Hero\"})\n",
      "MATCH(a:page{ref:\"/wiki/The_Witcher\"})\n",
      "MERGE(a)-[r:REFERS_TO{text:\" The Chessmaster:\n",
      " Jacques de Aldersberg.\n",
      " Quite a few chess 'enthusiasts' appear during the backroom politicking of Chapter 3; among them, Declan and Triss could be considered masters.\"}]->(b:page{ref:\"/wiki/The_Chessmaster\"})\n",
      "MATCH(a:page{ref:\"/wiki/The_Witcher\"})\n",
      "MERGE(a)-[r:REFERS_TO{text:\" Chivalrous Pervert: Geralt again.\"}]->(b:page{ref:\"/wiki/Chivalrous_Pervert\"})\n",
      "MATCH(a:page{ref:\"/wiki/The_Witcher\"})\n",
      "MERGE(a)-[r:REFERS_TO{text:\" Close-Call Haircut: Done by Geralt to the Striga/Princess Adda in the opening cutscene.\"}]->(b:page{ref:\"/wiki/Close-Call_Haircut\"})\n",
      "MATCH(a:page{ref:\"/wiki/The_Witcher\"})\n",
      "MERGE(a)-[r:REFERS_TO{text:\" Cluster F-Bomb: For a game set in an 11th century medieval world, people sure have colorful vocabularies.\n",
      " Most characters do not swear or use only mild profanities. And then there is Thaler.\"}]->(b:page{ref:\"/wiki/Cluster_F-Bomb\"})\n",
      "MATCH(a:page{ref:\"/wiki/The_Witcher\"})\n",
      "MERGE(a)-[r:REFERS_TO{text:\" Collection Sidequest: Several NPCs will reward you if you bring them certain amounts of monster body parts. A few reviews have noted that, because killing monsters is a Witcher's primary purpose, it is more bearable than most examples.\"}]->(b:page{ref:\"/wiki/Collection_Sidequest\"})\n",
      "MATCH(a:page{ref:\"/wiki/The_Witcher\"})\n",
      "MERGE(a)-[r:REFERS_TO{text:\" Comforting The Witcher: Triss in the games, after Yennefer's disappearance. She wants Geralt to regain his memories, but she skips mentioning his love in the first game and tricks him with the Roses of Remembrance in the sequel. However, it seems it's more of savoring the while, since she seems to realize she will lose Geralt's love when he remembers everything and is prepared for it. She even promises to find Yennefer, no matter the cost, because she owes it to the witcher AND the sorceress.\"}]->(b:page{ref:\"/wiki/Comforting_the_Widow\"})\n",
      "MATCH(a:page{ref:\"/wiki/The_Witcher\"})\n",
      "MERGE(a)-[r:REFERS_TO{text:\" The Computer Is a Cheating Bastard: Dice Poker, in the initial version, was a cakewalk, with the AI often rerolling excellent scores or not rerolling absolute stinkers. Patched, however, it's a nightmare. Specifically, the computer has a built-in advantage by always playing last, which means that it always knows exactly what it needs to get to beat you (and can thus decide how many and which dice to reroll to best accomplish that).\"}]->(b:page{ref:\"/wiki/The_Computer_Is_a_Cheating_Bastard\"})\n",
      "MATCH(a:page{ref:\"/wiki/The_Witcher\"})\n",
      "MERGE(a)-[r:REFERS_TO{text:\" Conservation of Ninjutsu: The 'group' fighting-style is more effective when used against a group of enemies than a lone opponent, and by more effective, It's easier to get multiple enemies into a range it can be used than it is to fight them one on one without it. Played straight somewhat by design, as the Group style carries an inherent critical chance that will be applied on every single opponent within range. Because of that, you can usually find yourself in a situation where one second you are surrounded by a large pack of mobs, the next all of them drop dead instantly from the critical strike that the style dealt out.\"}]->(b:page{ref:\"/wiki/Conservation_of_Ninjutsu\"})\n",
      "MATCH(a:page{ref:\"/wiki/The_Witcher\"})\n",
      "MERGE(a)-[r:REFERS_TO{text:\" The Beast can be instakilled with a simple stun like any other enemy. See Contractual Boss Immunity above.\"}]->(b:page{ref:\"/wiki/Contractual_Boss_Immunity\"})\n",
      "MATCH(a:page{ref:\"/wiki/The_Witcher\"})\n",
      "MERGE(a)-[r:REFERS_TO{text:\" Crazy Prepared: Given the large number of potions, oils, and bombs that are available through alchemy, it's possible and efficient to play as such a type of character.\"}]->(b:page{ref:\"/wiki/Crazy_Prepared\"})\n",
      "MATCH(a:page{ref:\"/wiki/The_Witcher\"})\n",
      "MERGE(a)-[r:REFERS_TO{text:\" Crystal Dragon Jesus: The Church of the Silver Eternal Flame, another goddess draws from the The Hecate Sisters. A prophet by the name Lebioda replaces Jesus in the Holy Grail legend.\"}]->(b:page{ref:\"/wiki/Crystal_Dragon_Jesus\"})\n",
      "MATCH(a:page{ref:\"/wiki/The_Witcher\"})\n",
      "MERGE(a)-[r:REFERS_TO{text:\" Cutscene Power to the Max: While you can learn it early in the game, Geralt will parry the Professor's crossbow bolt in Chapter 3 even if you don't.\"}]->(b:page{ref:\"/wiki/Cutscene_Power_to_the_Max\"})\n",
      "MATCH(a:page{ref:\"/wiki/The_Witcher\"})\n",
      "MERGE(a)-[r:REFERS_TO{text:\" Cutting the Knot: One quest is to complete a potion that requires a virgin's tears. The quest giver recommends a brick maker (who is as far away from the quest giver as possible) who is rumored to be a virgin. You could go all the way over to the brick maker and verify the rumor... or you could just ask a nun in the temple less than a block away (or your Order contact if you sided with them).\"}]->(b:page{ref:\"/wiki/Cutting_the_Knot\"})\n",
      "MATCH(a:page{ref:\"/wiki/The_Witcher\"})\n",
      "MERGE(a)-[r:REFERS_TO{text:\" Deadpan Snarker: Geralt would certainly qualify, as would several others. Sharp wit seems to be a coping mechanism for the world they live in.\"}]->(b:page{ref:\"/wiki/Deadpan_Snarker\"})\n",
      "MATCH(a:page{ref:\"/wiki/The_Witcher\"})\n",
      "MERGE(a)-[r:REFERS_TO{text:\" Desperately Looking for a Purpose In Life: Witchers, which were formerly a necessity in the world, are now classed as obsolete. Geralt can ask questions of this effect at a few points.\"}]->(b:page{ref:\"/wiki/Desperately_Looking_for_a_Purpose_In_Life\"})\n",
      "MATCH(a:page{ref:\"/wiki/The_Witcher\"})\n",
      "MERGE(a)-[r:REFERS_TO{text:\" Did You Just Punch Out Cthulhu?: Dagon's close enough, although you don't beat him directly. There's also the optional last battle against the King of the Wild Hunt (possibly death incarnate) and the Beast (that is a powerful manifestation of people's guilt and possibly a punishment of the gods).\"}]->(b:page{ref:\"/wiki/Did_You_Just_Punch_Out_Cthulhu%3F\"})\n",
      "MATCH(a:page{ref:\"/wiki/The_Witcher\"})\n",
      "MERGE(a)-[r:REFERS_TO{text:\" Difficulty Spike: The Beast, boss monster of chapter 1 (of 5), can be a nightmare even on Medium difficulty. All the rest of the game, particularly from chapter 2 onward, is a piece of cake compared to it. Once you learn the new system, though, a fight that was a nightmare on Medium can easily be a Curb Stomp Battle on Hard: the problem is a steep learning curve, not true difficulty.\n",
      " The Beast can be instakilled with a simple stun like any other enemy. See Contractual Boss Immunity above.\"}]->(b:page{ref:\"/wiki/Difficulty_Spike\"})\n",
      "MATCH(a:page{ref:\"/wiki/The_Witcher\"})\n",
      "MERGE(a)-[r:REFERS_TO{text:\" The Dragon: Azar Javed\"}]->(b:page{ref:\"/wiki/The_Dragon\"})\n",
      "MATCH(a:page{ref:\"/wiki/The_Witcher\"})\n",
      "MERGE(a)-[r:REFERS_TO{text:\" Dying Like Animals: Just about everyone.\"}]->(b:page{ref:\"/wiki/Dying_Like_Animals\"})\n",
      "MATCH(a:page{ref:\"/wiki/The_Witcher\"})\n",
      "MERGE(a)-[r:REFERS_TO{text:\" Everything's Better with Princesses: Princess Adda, apart from what's under the world part, isn't exactly the innocent Distressed Damsel now.\"}]->(b:page{ref:\"/wiki/Everything%27s_Better_with_Princesses\"})\n",
      "MATCH(a:page{ref:\"/wiki/The_Witcher\"})\n",
      "MERGE(a)-[r:REFERS_TO{text:\" Expy: Azar Javed from the game is a thinly veiled Expy of Rience, henchman of Vilgefortz from the books. Their backstory is pretty much identical -- both went to the same school of magic and were kicked out for their shady dealings. Same goes for Professor (Magister in the Polish version) -- his behaviour and speech patterns make him a shout out to a minor villain from the saga, and in the English version he ended up with an identical nickname.\"}]->(b:page{ref:\"/wiki/Expy\"})\n",
      "MATCH(a:page{ref:\"/wiki/The_Witcher\"})\n",
      "MERGE(a)-[r:REFERS_TO{text:\" Fantastic Racism\"}]->(b:page{ref:\"/wiki/Fantastic_Racism\"})\n",
      "MATCH(a:page{ref:\"/wiki/The_Witcher\"})\n",
      "MERGE(a)-[r:REFERS_TO{text:\" Fantasy Kitchen Sink\"}]->(b:page{ref:\"/wiki/Fantasy_Kitchen_Sink\"})\n",
      "MATCH(a:page{ref:\"/wiki/The_Witcher\"})\n",
      "MERGE(a)-[r:REFERS_TO{text:\" Five-Bad Band:\n",
      " Big Bad: Jacques De Aldersberg\n",
      " The Dragon: Azar Javed\n",
      " The Evil Genius: The Professor\n",
      " The Dark Chick: Princess Adda\n",
      " The Brute: Savolla\"}]->(b:page{ref:\"/wiki/Five-Bad_Band\"})\n",
      "MATCH(a:page{ref:\"/wiki/The_Witcher\"})\n",
      "MERGE(a)-[r:REFERS_TO{text:\" Big Bad: Jacques De Aldersberg\"}]->(b:page{ref:\"/wiki/Big_Bad\"})\n",
      "MATCH(a:page{ref:\"/wiki/The_Witcher\"})\n",
      "MERGE(a)-[r:REFERS_TO{text:\" The Evil Genius: The Professor\"}]->(b:page{ref:\"/wiki/The_Evil_Genius\"})\n",
      "MATCH(a:page{ref:\"/wiki/The_Witcher\"})\n",
      "MERGE(a)-[r:REFERS_TO{text:\" The Dark Chick: Princess Adda\"}]->(b:page{ref:\"/wiki/The_Dark_Chick\"})\n",
      "MATCH(a:page{ref:\"/wiki/The_Witcher\"})\n",
      "MERGE(a)-[r:REFERS_TO{text:\" The Brute: Savolla\"}]->(b:page{ref:\"/wiki/The_Brute\"})\n",
      "MATCH(a:page{ref:\"/wiki/The_Witcher\"})\n",
      "MERGE(a)-[r:REFERS_TO{text:\" Foreshadowing: Early in the game, Vincent makes a cryptic comment about the moon. Later in the game, it turns out he is a werewolf.\n",
      " Also the Salamander itself. It is also a mythical creature commonly associated with fire. Can you think of any other organization with a name consisting of a reference to fire?. Possibly doubles as Fridge Brilliance.\n",
      " Likewise, in the first chapter, the priest agrees to help you to some degree because there is apparently a passage in his scriptures that describes you and the current situation almost exactly, and suggests a course of action. After finishing the game, think about who's in charge of the church at the time, and how and why that passage would exist.\"}]->(b:page{ref:\"/wiki/Foreshadowing\"})\n",
      "MATCH(a:page{ref:\"/wiki/The_Witcher\"})\n",
      "MERGE(a)-[r:REFERS_TO{text:\" Fridge Brilliance: Thaler's real name is Bernard Ducat. Ducat is the name of valuable medieval gold coin while thaler is a common silver coin. Very fitting, given that Thaler is a high-ranking official (Foltest's spymaster) posing as a lowly commoner.\"}]->(b:page{ref:\"/wiki/Fridge_Brilliance\"})\n",
      "MATCH(a:page{ref:\"/wiki/The_Witcher\"})\n",
      "MERGE(a)-[r:REFERS_TO{text:\" Feelies: Various editions in various countries came with a lot.\"}]->(b:page{ref:\"/wiki/Feelies\"})\n",
      "MATCH(a:page{ref:\"/wiki/The_Witcher\"})\n",
      "MERGE(a)-[r:REFERS_TO{text:\" Gainax Ending: It is implied that the big bad is Geralt's ward, Alvin. Also, in a post game sequence, Geralt kills an assassin; when he unmasks his corpse, it turns out to be a Witcher.\n",
      " The time travel is mentioned by Triss at one point. Also, it is described in detail in a book about 'sources' that you can find in chapter V. Finally, it is a very important point in the novels (the game was originally aimed at the readers. Nobody expected it to become so popular.)\n",
      " Time travel is also alluded to by the King of the Wild Hunt in the chapel crypt in the first chapter. The Sources are also said to be able to travel through space and, in very rare cases, time, which seems to be what happened when Alvin's fear accidentally triggered his power.\n",
      " Although not explicitly stated, the evidence does definitely seem to imply that Jacques is indeed an older version of a time-traveling Alvin. Jacques' final speech changes according to the lessons you gave Alvin earlier in the game; they are wearing the same amulet; they even look alike; and Alvin's disappearance without his eventual return would be, narratively, rather weak.\"}]->(b:page{ref:\"/wiki/Gainax_Ending\"})\n",
      "MATCH(a:page{ref:\"/wiki/The_Witcher\"})\n",
      "MERGE(a)-[r:REFERS_TO{text:\" Genius Bruiser: Azar Javed. The villain who spends the whole game using magic fights  his final battle by Dual-Wielding giant flaming hammers.\"}]->(b:page{ref:\"/wiki/Genius_Bruiser\"})\n",
      "MATCH(a:page{ref:\"/wiki/The_Witcher\"})\n",
      "MERGE(a)-[r:REFERS_TO{text:\" It gets better. Geralt openly admits that he's been specifically trained to see through the schemes of intelligent monsters that are often Genre Savvy enough to utilize misconceptions of the common folk concerning their nature.\"}]->(b:page{ref:\"/wiki/Genre_Savvy\"})\n",
      "MATCH(a:page{ref:\"/wiki/The_Witcher\"})\n",
      "MERGE(a)-[r:REFERS_TO{text:\" Hooker with a Heart of Gold: Carmen. She wants to cure her lover of lycanthropy. With Geralt's help, she can succeed.\"}]->(b:page{ref:\"/wiki/Hooker_with_a_Heart_of_Gold\"})\n",
      "MATCH(a:page{ref:\"/wiki/The_Witcher\"})\n",
      "MERGE(a)-[r:REFERS_TO{text:\" Giant Enemy Crab: The Koshchey.\"}]->(b:page{ref:\"/wiki/Giant_Enemy_Crab\"})\n",
      "MATCH(a:page{ref:\"/wiki/The_Witcher\"})\n",
      "MERGE(a)-[r:REFERS_TO{text:\" Give Me Your Inventory Item: A few NPCs will give you a reward for giving them potions that only you can make.\n",
      " Or, in one case, bread.\"}]->(b:page{ref:\"/wiki/Give_Me_Your_Inventory_Item\"})\n",
      "MATCH(a:page{ref:\"/wiki/The_Witcher\"})\n",
      "MERGE(a)-[r:REFERS_TO{text:\" Go Wait Outside: Played dead straight. Any time you are asked to come back tomorrow, all you need to do to speed things up is just leave and re-enter the area.\"}]->(b:page{ref:\"/wiki/Go_Wait_Outside\"})\n",
      "MATCH(a:page{ref:\"/wiki/The_Witcher\"})\n",
      "MERGE(a)-[r:REFERS_TO{text:\" Green-Skinned Space Babe: Not from space, but a green-skinned non-human, with an alien culture that gives opportunity for an adult variation of What Is This Thing You Call Love?.\"}]->(b:page{ref:\"/wiki/Green-Skinned_Space_Babe\"})\n",
      "MATCH(a:page{ref:\"/wiki/The_Witcher\"})\n",
      "MERGE(a)-[r:REFERS_TO{text:\" Grey and Gray Morality: Both the Order of the Flaming Rose and the Scoia'tael have legitimate goals, ideals, and grievances, which they go over painstakingly. But the Order is composed of fanatical nutjobs whose ideal of protecting people is killing every non-human in sight, and the Squirrels are terrorists who end up killing many more civilians, which just makes life harder for the very people they profess to save.\n",
      " In the cutscenes, Geralt explicitly reflects on the fact that he should never take sides.\n",
      " Salamandra, however, is pretty much explicitly evil.\n",
      " If you side with the Flaming Rose, you'll find that several of them really do follow the ideals they profess. In this story branch, the conflict ends with a civil war between the good and corrupt factions.\"}]->(b:page{ref:\"/wiki/Grey_and_Gray_Morality\"})\n",
      "MATCH(a:page{ref:\"/wiki/The_Witcher\"})\n",
      "MERGE(a)-[r:REFERS_TO{text:\" In the cutscenes, Geralt explicitly reflects on the fact that he should never take sides.\"}]->(b:page{ref:\"/wiki/True_Neutral\"})\n",
      "MATCH(a:page{ref:\"/wiki/The_Witcher\"})\n",
      "MERGE(a)-[r:REFERS_TO{text:\" Salamandra, however, is pretty much explicitly evil.\"}]->(b:page{ref:\"/wiki/Black_and_Grey_Morality\"})\n",
      "MATCH(a:page{ref:\"/wiki/The_Witcher\"})\n",
      "MERGE(a)-[r:REFERS_TO{text:\" Hannibal Lecture: The Professor, at least three times. Hilariously subverted by Geralt during the showdown in the caverns under Vizima.\"}]->(b:page{ref:\"/wiki/Hannibal_Lecture\"})\n",
      "MATCH(a:page{ref:\"/wiki/The_Witcher\"})\n",
      "MERGE(a)-[r:REFERS_TO{text:\" Heroic Albino: Geralt has white hair and pale skin.\"}]->(b:page{ref:\"/wiki/Heroic_Albino\"})\n",
      "MATCH(a:page{ref:\"/wiki/The_Witcher\"})\n",
      "MERGE(a)-[r:REFERS_TO{text:\" Heroes Want Redheads: The two 'optional encounters' that could be considered serious love interests are both redheads. The only major female character that is not redhead is Toruviel (and to, some extent, also Carmen).\"}]->(b:page{ref:\"/wiki/Heroes_Want_Redheads\"})\n",
      "MATCH(a:page{ref:\"/wiki/The_Witcher\"})\n",
      "MERGE(a)-[r:REFERS_TO{text:\" Hotter and Sexier: While the books made it clear that Geralt Really Gets Around, the games are somewhat infamous for their level of sexual content. The first video game adaptation has an almost absurd number of Optional Sexual Encounters. The sequel significantly cuts down on the number of encounters, but counteracts that with some very explicit cutscenes.\"}]->(b:page{ref:\"/wiki/Hotter_and_Sexier\"})\n",
      "MATCH(a:page{ref:\"/wiki/The_Witcher\"})\n",
      "MERGE(a)-[r:REFERS_TO{text:\" Hot Witch: Abigail.\"}]->(b:page{ref:\"/wiki/Hot_Witch\"})\n",
      "MATCH(a:page{ref:\"/wiki/The_Witcher\"})\n",
      "MERGE(a)-[r:REFERS_TO{text:\" Humans Are Bastards: Oh yes. You may think you've seen the scum of the earth when you've finished dealing with the zealots, rapists, murderers, and bandits in the prologue, but you haven't even scratched the surface. That guardsman trying to bust up a local drug ring? He's probably addicted to the same drugs and hoping to turn the situation to his advantage. That doddering harmless old man? He's even worse. That nun who sacrifices her time and energy to help dying plague victims, potentially exposing herself to the deadly disease for no tangible reward whatsoever? She eats babies. (Well, not really, but it wouldn't surprise you.)\n",
      " The phrase Humans are bastards itself appears very often. Usually in a conversation with Zoltan.\"}]->(b:page{ref:\"/wiki/Humans_Are_Bastards\"})\n"
     ]
    }
   ],
   "source": [
    "add_reference('/wiki/The_Witcher', examples)"
   ]
  },
  {
   "cell_type": "code",
   "execution_count": 426,
   "metadata": {},
   "outputs": [],
   "source": [
    "def delete_node(identifier):\n",
    "    global session\n",
    "    query = 'MATCH(p:page{' + f'ref:\"{identifier}\"' + '}) DETACH DELETE p' \n",
    "    print(query)\n",
    "    session.run(query)\n",
    "    "
   ]
  },
  {
   "cell_type": "code",
   "execution_count": 446,
   "metadata": {},
   "outputs": [
    {
     "name": "stdout",
     "output_type": "stream",
     "text": [
      "MATCH(p:page{ref:\"/wiki/The_Witcher\"}) DETACH DELETE p\n"
     ]
    }
   ],
   "source": [
    "# delete_node(identifier)"
   ]
  },
  {
   "cell_type": "code",
   "execution_count": 447,
   "metadata": {},
   "outputs": [],
   "source": [
    "def delete_all():\n",
    "    global session\n",
    "    query = 'MATCH(n) DETACH DELETE n'\n",
    "    print(query)\n",
    "    session.run(query)"
   ]
  },
  {
   "cell_type": "code",
   "execution_count": 448,
   "metadata": {},
   "outputs": [
    {
     "name": "stdout",
     "output_type": "stream",
     "text": [
      "MATCH(n) DETACH DELETE n\n"
     ]
    }
   ],
   "source": [
    "# delete_all()"
   ]
  },
  {
   "cell_type": "code",
   "execution_count": 449,
   "metadata": {},
   "outputs": [],
   "source": [
    "def page_to_graph(name):\n",
    "    identifier, description, references, examples, keywords = get_page_attributes(name)\n",
    "    add_node(identifier, keywords)\n",
    "    add_reference(identifier, references)\n",
    "    add_reference(identifier, examples)"
   ]
  },
  {
   "cell_type": "code",
   "execution_count": 450,
   "metadata": {},
   "outputs": [],
   "source": [
    "page_to_graph('The_Witcher')"
   ]
  },
  {
   "cell_type": "code",
   "execution_count": 529,
   "metadata": {},
   "outputs": [],
   "source": [
    "def get_references(identifier):\n",
    "    global session\n",
    "    query = 'MATCH (p:page{ref:' +  f\"'{identifier}'\" + '})-[REFERS_TO]->(x) return x'\n",
    "    result = session.run(query)\n",
    "    print(query)\n",
    "    return [r['x']['ref'] for r in result]"
   ]
  },
  {
   "cell_type": "code",
   "execution_count": 531,
   "metadata": {},
   "outputs": [
    {
     "name": "stdout",
     "output_type": "stream",
     "text": [
      "MATCH (p:page{ref:'/wiki/The_Witcher'})-[REFERS_TO]->(x) return x\n"
     ]
    },
    {
     "data": {
      "text/plain": [
       "['/wiki/Humans_Are_Bastards',\n",
       " '/wiki/Hot_Witch',\n",
       " '/wiki/Hotter_and_Sexier',\n",
       " '/wiki/Heroes_Want_Redheads',\n",
       " '/wiki/Heroic_Albino',\n",
       " '/wiki/Hannibal_Lecture',\n",
       " '/wiki/Black_and_Grey_Morality',\n",
       " '/wiki/True_Neutral',\n",
       " '/wiki/Grey_and_Gray_Morality',\n",
       " '/wiki/Green-Skinned_Space_Babe']"
      ]
     },
     "execution_count": 531,
     "metadata": {},
     "output_type": "execute_result"
    }
   ],
   "source": [
    "get_references(identifier)[:10]"
   ]
  },
  {
   "cell_type": "code",
   "execution_count": 535,
   "metadata": {},
   "outputs": [],
   "source": [
    "page_to_graph('Heroic_Albino')"
   ]
  },
  {
   "cell_type": "code",
   "execution_count": 538,
   "metadata": {},
   "outputs": [],
   "source": [
    "page_to_graph('The_Witcher_2:_Assassins_of_Kings')"
   ]
  },
  {
   "cell_type": "code",
   "execution_count": 541,
   "metadata": {},
   "outputs": [
    {
     "name": "stdout",
     "output_type": "stream",
     "text": [
      "MATCH (p:page{ref:'/wiki/The_Witcher_2:_Assassins_of_Kings'})-[REFERS_TO]->(x) return x\n"
     ]
    },
    {
     "data": {
      "text/plain": [
       "['/wiki/Your_Terrorists_Are_Our_Freedom_Fighters',\n",
       " '/wiki/You_No_Take_Candle',\n",
       " '/wiki/We_Used_to_Be_Friends',\n",
       " '/wiki/Walking_Armory',\n",
       " '/wiki/Fridge_Brilliance',\n",
       " '/wiki/Villain_Forgot_to_Level_Grind',\n",
       " '/wiki/Ungrateful_Bastard',\n",
       " '/wiki/Undying_Loyalty',\n",
       " '/wiki/Tutorial_Failure',\n",
       " '/wiki/Cutscene_Power_to_the_Max']"
      ]
     },
     "execution_count": 541,
     "metadata": {},
     "output_type": "execute_result"
    }
   ],
   "source": [
    "get_references('/wiki/The_Witcher_2:_Assassins_of_Kings')[:10]"
   ]
  },
  {
   "cell_type": "code",
   "execution_count": null,
   "metadata": {},
   "outputs": [],
   "source": []
  }
 ],
 "metadata": {
  "kernelspec": {
   "display_name": "Python 3",
   "language": "python",
   "name": "python3"
  },
  "language_info": {
   "codemirror_mode": {
    "name": "ipython",
    "version": 3
   },
   "file_extension": ".py",
   "mimetype": "text/x-python",
   "name": "python",
   "nbconvert_exporter": "python",
   "pygments_lexer": "ipython3",
   "version": "3.7.3"
  }
 },
 "nbformat": 4,
 "nbformat_minor": 4
}
