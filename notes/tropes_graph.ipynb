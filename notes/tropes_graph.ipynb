{
 "cells": [
  {
   "cell_type": "code",
   "execution_count": 1,
   "metadata": {},
   "outputs": [],
   "source": [
    "from bs4 import BeautifulSoup as bs\n",
    "import requests"
   ]
  },
  {
   "cell_type": "markdown",
   "metadata": {},
   "source": [
    "Creating tools to parse attributes from individual pages"
   ]
  },
  {
   "cell_type": "code",
   "execution_count": 2,
   "metadata": {},
   "outputs": [],
   "source": [
    "BASE_URL = 'https://allthetropes.fandom.com'"
   ]
  },
  {
   "cell_type": "code",
   "execution_count": 3,
   "metadata": {},
   "outputs": [],
   "source": [
    "USER_AGENT = {'User-agent':\n",
    "              'Mozilla/5.0 (Windows NT 10.0; Win64; x64) AppleWebKit/537.36 (KHTML, like Gecko) Chrome/74.0.3729.169 Safari/537.36'}"
   ]
  },
  {
   "cell_type": "code",
   "execution_count": 4,
   "metadata": {},
   "outputs": [],
   "source": [
    "def get_page_html(name):\n",
    "    global BASE_URL\n",
    "    global USER_AGENT\n",
    "    url = BASE_URL + '/wiki/' + name\n",
    "    html = requests.get(url, headers=USER_AGENT).text\n",
    "    return bs(html)"
   ]
  },
  {
   "cell_type": "code",
   "execution_count": 5,
   "metadata": {},
   "outputs": [],
   "source": [
    "def get_keywords(page):\n",
    "    return page.find('meta', {'name':'keywords'})['content']"
   ]
  },
  {
   "cell_type": "code",
   "execution_count": 6,
   "metadata": {},
   "outputs": [],
   "source": [
    "def parse_references(p):\n",
    "    refs = p.findAll('a')\n",
    "    d = {}\n",
    "    for ref in refs:\n",
    "        try:\n",
    "            title = ref['title']\n",
    "            href = ref['href']\n",
    "            d[href] = title\n",
    "        except:\n",
    "            pass\n",
    "    return d"
   ]
  },
  {
   "cell_type": "code",
   "execution_count": 7,
   "metadata": {},
   "outputs": [],
   "source": [
    "def get_examples(page):\n",
    "    examples = page.find('div', id='mw-content-text').findAll('ul')[0].findAll('li')\n",
    "    example_refs = {}\n",
    "    for example in examples:\n",
    "        text = example.text.strip('\\n')\n",
    "        text = text.replace('\\xa0', ' ')\n",
    "        text = text.replace('\"', '')\n",
    "        ref = example.findAll('a')\n",
    "        try:\n",
    "            ref = ref[0]['href']\n",
    "            example_refs[ref] = text\n",
    "        except:\n",
    "            pass\n",
    "    return example_refs"
   ]
  },
  {
   "cell_type": "code",
   "execution_count": 8,
   "metadata": {},
   "outputs": [],
   "source": [
    "def parse_text(page):\n",
    "    paras = page.find('div', id='mw-content-text').findAll('p')\n",
    "    description = []\n",
    "    references = {}\n",
    "    for p in paras:\n",
    "        description.append(p.text.strip('\\n').replace('\\xa0', ' ').replace('\"', ''))\n",
    "        references.update(parse_references(p))\n",
    "    return ''.join(description), references"
   ]
  },
  {
   "cell_type": "code",
   "execution_count": 9,
   "metadata": {},
   "outputs": [],
   "source": [
    "test = get_page_html('The_Witcher')"
   ]
  },
  {
   "cell_type": "code",
   "execution_count": 10,
   "metadata": {},
   "outputs": [],
   "source": [
    "def get_page_attributes(name):\n",
    "    page = get_page_html(name)\n",
    "    identifier = '/wiki/' + name\n",
    "    description, references = parse_text(page)\n",
    "    examples = get_examples(page)\n",
    "    keywords = get_keywords(page)\n",
    "    return identifier, description, references, examples, keywords"
   ]
  },
  {
   "cell_type": "markdown",
   "metadata": {},
   "source": [
    "Connecting to neo4j DB"
   ]
  },
  {
   "cell_type": "code",
   "execution_count": 11,
   "metadata": {},
   "outputs": [],
   "source": [
    "from neo4j import GraphDatabase, basic_auth"
   ]
  },
  {
   "cell_type": "code",
   "execution_count": 12,
   "metadata": {},
   "outputs": [],
   "source": [
    "driver = GraphDatabase.driver(\"bolt://0.0.0.0:7687\",\n",
    "                              basic_auth=(\"neo4j\", \"neo4j\"),\n",
    "                              encrypted=False)"
   ]
  },
  {
   "cell_type": "code",
   "execution_count": 13,
   "metadata": {},
   "outputs": [],
   "source": [
    "session = driver.session()"
   ]
  },
  {
   "cell_type": "code",
   "execution_count": 14,
   "metadata": {},
   "outputs": [],
   "source": [
    "identifier, description, references, examples, keywords = get_page_attributes('The_Witcher')"
   ]
  },
  {
   "cell_type": "code",
   "execution_count": 15,
   "metadata": {},
   "outputs": [],
   "source": [
    "def add_node(identifier, keywords):\n",
    "    global session\n",
    "    ref = f'ref:\"{identifier}\"'\n",
    "    kws = str(keywords.split(','))\n",
    "    query = 'MERGE(p:page{' + ref + '})'\n",
    "    query += '\\n' + f'SET p.keywords = {kws}'\n",
    "    session.run(query)\n",
    "   # print(query)"
   ]
  },
  {
   "cell_type": "code",
   "execution_count": 16,
   "metadata": {},
   "outputs": [],
   "source": [
    "add_node('/wiki/The_Witcher', keywords)"
   ]
  },
  {
   "cell_type": "code",
   "execution_count": 17,
   "metadata": {},
   "outputs": [],
   "source": [
    "def add_reference(identifier, references):\n",
    "    global session\n",
    "    base_node = f'ref:\"{identifier}\"'\n",
    "    for reference in references.items():\n",
    "        ref_node = f'ref:\"{reference[0]}\"'\n",
    "        query = 'MATCH(a:page{' + f'{base_node}' + '})'\n",
    "        query += '\\n' + 'MERGE(a)-[r:REFERS_TO{text:' + f'\"{reference[1]}\"' + '}]->' + \\\n",
    "        '(b:page{' + f'{ref_node}' + '})'\n",
    "       # print(query)\n",
    "        session.run(query)\n"
   ]
  },
  {
   "cell_type": "code",
   "execution_count": 18,
   "metadata": {},
   "outputs": [],
   "source": [
    "add_reference('/wiki/The_Witcher', references)"
   ]
  },
  {
   "cell_type": "code",
   "execution_count": 19,
   "metadata": {},
   "outputs": [],
   "source": [
    "add_reference('/wiki/The_Witcher', examples)"
   ]
  },
  {
   "cell_type": "code",
   "execution_count": 20,
   "metadata": {},
   "outputs": [],
   "source": [
    "def delete_node(identifier):\n",
    "    global session\n",
    "    query = 'MATCH(p:page{' + f'ref:\"{identifier}\"' + '}) DETACH DELETE p' \n",
    "    print(query)\n",
    "    session.run(query)\n",
    "    "
   ]
  },
  {
   "cell_type": "code",
   "execution_count": 21,
   "metadata": {},
   "outputs": [],
   "source": [
    "# delete_node(identifier)"
   ]
  },
  {
   "cell_type": "code",
   "execution_count": 22,
   "metadata": {},
   "outputs": [],
   "source": [
    "def delete_all():\n",
    "    global session\n",
    "    query = 'MATCH(n) DETACH DELETE n'\n",
    "    print(query)\n",
    "    session.run(query)"
   ]
  },
  {
   "cell_type": "code",
   "execution_count": 23,
   "metadata": {},
   "outputs": [],
   "source": [
    "# delete_all()"
   ]
  },
  {
   "cell_type": "code",
   "execution_count": 24,
   "metadata": {},
   "outputs": [],
   "source": [
    "def page_to_graph(name):\n",
    "    identifier, description, references, examples, keywords = get_page_attributes(name)\n",
    "    add_node(identifier, keywords)\n",
    "    add_reference(identifier, references)\n",
    "    add_reference(identifier, examples)"
   ]
  },
  {
   "cell_type": "code",
   "execution_count": 25,
   "metadata": {},
   "outputs": [],
   "source": [
    "page_to_graph('The_Witcher')"
   ]
  },
  {
   "cell_type": "code",
   "execution_count": 26,
   "metadata": {},
   "outputs": [],
   "source": [
    "def get_references(identifier):\n",
    "    global session\n",
    "    query = 'MATCH (p:page{ref:' +  f\"'{identifier}'\" + '})-[REFERS_TO]->(x) return x'\n",
    "    result = session.run(query)\n",
    "    print(query)\n",
    "    return [r['x']['ref'] for r in result]"
   ]
  },
  {
   "cell_type": "code",
   "execution_count": 27,
   "metadata": {},
   "outputs": [
    {
     "name": "stdout",
     "output_type": "stream",
     "text": [
      "MATCH (p:page{ref:'/wiki/The_Witcher'})-[REFERS_TO]->(x) return x\n"
     ]
    },
    {
     "data": {
      "text/plain": [
       "['/wiki/Humans_Are_Bastards',\n",
       " '/wiki/Hot_Witch',\n",
       " '/wiki/Hotter_and_Sexier',\n",
       " '/wiki/Heroes_Want_Redheads',\n",
       " '/wiki/Heroic_Albino',\n",
       " '/wiki/Hannibal_Lecture',\n",
       " '/wiki/Black_and_Grey_Morality',\n",
       " '/wiki/True_Neutral',\n",
       " '/wiki/Grey_and_Gray_Morality',\n",
       " '/wiki/Green-Skinned_Space_Babe']"
      ]
     },
     "execution_count": 27,
     "metadata": {},
     "output_type": "execute_result"
    }
   ],
   "source": [
    "get_references(identifier)[:10]"
   ]
  },
  {
   "cell_type": "code",
   "execution_count": 28,
   "metadata": {},
   "outputs": [],
   "source": [
    "page_to_graph('Heroic_Albino')"
   ]
  },
  {
   "cell_type": "code",
   "execution_count": 29,
   "metadata": {},
   "outputs": [],
   "source": [
    "page_to_graph('The_Witcher_2:_Assassins_of_Kings')"
   ]
  },
  {
   "cell_type": "code",
   "execution_count": 30,
   "metadata": {},
   "outputs": [
    {
     "name": "stdout",
     "output_type": "stream",
     "text": [
      "MATCH (p:page{ref:'/wiki/The_Witcher_2:_Assassins_of_Kings'})-[REFERS_TO]->(x) return x\n"
     ]
    },
    {
     "data": {
      "text/plain": [
       "['/wiki/Your_Terrorists_Are_Our_Freedom_Fighters',\n",
       " '/wiki/You_No_Take_Candle',\n",
       " '/wiki/We_Used_to_Be_Friends',\n",
       " '/wiki/Walking_Armory',\n",
       " '/wiki/Fridge_Brilliance',\n",
       " '/wiki/Villain_Forgot_to_Level_Grind',\n",
       " '/wiki/Ungrateful_Bastard',\n",
       " '/wiki/Undying_Loyalty',\n",
       " '/wiki/Tutorial_Failure',\n",
       " '/wiki/Cutscene_Power_to_the_Max']"
      ]
     },
     "execution_count": 30,
     "metadata": {},
     "output_type": "execute_result"
    }
   ],
   "source": [
    "get_references('/wiki/The_Witcher_2:_Assassins_of_Kings')[:10]"
   ]
  },
  {
   "cell_type": "code",
   "execution_count": 31,
   "metadata": {},
   "outputs": [],
   "source": [
    "page_to_graph('Contractual_Boss_Immunity')"
   ]
  },
  {
   "cell_type": "code",
   "execution_count": null,
   "metadata": {},
   "outputs": [],
   "source": []
  }
 ],
 "metadata": {
  "kernelspec": {
   "display_name": "Python 3",
   "language": "python",
   "name": "python3"
  },
  "language_info": {
   "codemirror_mode": {
    "name": "ipython",
    "version": 3
   },
   "file_extension": ".py",
   "mimetype": "text/x-python",
   "name": "python",
   "nbconvert_exporter": "python",
   "pygments_lexer": "ipython3",
   "version": "3.7.3"
  }
 },
 "nbformat": 4,
 "nbformat_minor": 4
}
