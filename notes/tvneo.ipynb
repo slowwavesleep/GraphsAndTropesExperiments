{
 "cells": [
  {
   "cell_type": "code",
   "execution_count": 1,
   "metadata": {},
   "outputs": [],
   "source": [
    "from bs4 import BeautifulSoup as bs\n",
    "import requests\n",
    "import re\n",
    "import pandas as pd"
   ]
  },
  {
   "cell_type": "code",
   "execution_count": 15,
   "metadata": {},
   "outputs": [],
   "source": [
    "BASE_URL = 'https://tvtropes.org/'"
   ]
  },
  {
   "cell_type": "code",
   "execution_count": 16,
   "metadata": {},
   "outputs": [],
   "source": [
    "USER_AGENT = {'User-agent':\n",
    "              'Mozilla/5.0 (Windows NT 10.0; Win64; x64) AppleWebKit/537.36 (KHTML, like Gecko) Chrome/74.0.3729.169 Safari/537.36'}"
   ]
  },
  {
   "cell_type": "code",
   "execution_count": 17,
   "metadata": {},
   "outputs": [],
   "source": [
    "MEDIA = ('Anime', 'ComicBook', 'Fanfic', 'Film', 'Literature', 'Series',\n",
    "         'Myth', 'TabletopGame', 'Toys', 'Franchise', 'VideoGame',\n",
    "         'Webcomic', 'AudioPlay', 'WesternAnimation', 'Wrestling',\n",
    "         'Podcast', 'Music', 'Blog', 'ComicStrip', 'Theatre')"
   ]
  },
  {
   "cell_type": "code",
   "execution_count": 27,
   "metadata": {},
   "outputs": [],
   "source": [
    "def get_page_html(path, url=BASE_URL, user_agent=USER_AGENT):\n",
    "    url = url + path\n",
    "    html = requests.get(url, headers=user_agent).text\n",
    "    return bs(html)"
   ]
  },
  {
   "cell_type": "code",
   "execution_count": 28,
   "metadata": {},
   "outputs": [],
   "source": [
    "def get_current_url(page, base_url=BASE_URL):\n",
    "    offset = 0\n",
    "    url = page.find('p', {'id': 'current_url'}).text\n",
    "    url = strip_domain(url)\n",
    "    return url"
   ]
  },
  {
   "cell_type": "code",
   "execution_count": 29,
   "metadata": {},
   "outputs": [],
   "source": [
    "def strip_domain(url):\n",
    "    return re.sub(r'http.*.org/', '', url)"
   ]
  },
  {
   "cell_type": "code",
   "execution_count": 30,
   "metadata": {},
   "outputs": [],
   "source": [
    "def get_info_from_url(url):\n",
    "    kind, name = re.findall('php/([^/]+).*/([^/]+)$', url)[0]\n",
    "    return kind, name"
   ]
  },
  {
   "cell_type": "code",
   "execution_count": 31,
   "metadata": {},
   "outputs": [],
   "source": [
    "def type_from_kind(kind, media=MEDIA):\n",
    "    if kind == 'Main':\n",
    "        ptype = 'Trope'\n",
    "    elif kind == 'Creator':\n",
    "        ptype = 'Creator'\n",
    "    elif kind in media:\n",
    "        ptype = 'Work'\n",
    "    else:\n",
    "        ptype = 'Other'\n",
    "    return ptype"
   ]
  },
  {
   "cell_type": "code",
   "execution_count": 32,
   "metadata": {},
   "outputs": [],
   "source": [
    "class Page(object):\n",
    "    \n",
    "    def __init__(self, url):\n",
    "        self.url = strip_domain(url)\n",
    "        kind, name = get_info_from_url(url)\n",
    "        ptype = type_from_kind(kind)\n",
    "        self.kind = kind\n",
    "        self.name = name\n",
    "        self.ptype = ptype\n",
    "    \n",
    "    def __repr__(self):\n",
    "        return f'{self.ptype} : {self.name}'\n",
    "    "
   ]
  },
  {
   "cell_type": "code",
   "execution_count": 33,
   "metadata": {},
   "outputs": [],
   "source": [
    "def get_references(page):\n",
    "    references = []\n",
    "    url = get_current_url(page)\n",
    "    folders = page.findAll('div', {'class': 'folder'})\n",
    "    if folders:\n",
    "        lis = []\n",
    "        for folder in folders:\n",
    "            lis.extend(folder.findAll('li'))\n",
    "    else:\n",
    "        lis = page.find('h2').findNext('ul').findAll('li')\n",
    "    for li in lis:\n",
    "        links = li.findAll('a', {'class': 'twikilink'})\n",
    "        references.extend(links)\n",
    "    references = set([reference for reference in references if reference['href'] != url])\n",
    "    references = [Page(reference['href']) for reference in references]\n",
    "    references = [reference for reference in references if reference.ptype != 'Other']\n",
    "    return references\n",
    "        "
   ]
  },
  {
   "cell_type": "code",
   "execution_count": 34,
   "metadata": {},
   "outputs": [],
   "source": [
    "plague = get_page_html('pmwiki/pmwiki.php/VideoGame/PlagueInc')"
   ]
  },
  {
   "cell_type": "code",
   "execution_count": 35,
   "metadata": {},
   "outputs": [],
   "source": [
    "pandemic = get_page_html('pmwiki/pmwiki.php/TabletopGame/Pandemic')"
   ]
  },
  {
   "cell_type": "code",
   "execution_count": 36,
   "metadata": {},
   "outputs": [],
   "source": [
    "l4d = get_page_html('pmwiki/pmwiki.php/VideoGame/Left4Dead')"
   ]
  },
  {
   "cell_type": "code",
   "execution_count": 37,
   "metadata": {},
   "outputs": [],
   "source": [
    "from neo4j import GraphDatabase, basic_auth"
   ]
  },
  {
   "cell_type": "code",
   "execution_count": 38,
   "metadata": {},
   "outputs": [],
   "source": [
    "driver = GraphDatabase.driver(\"bolt://0.0.0.0:7687\",\n",
    "                              basic_auth=(\"neo4j\", \"neo4j\"),\n",
    "                              encrypted=False)"
   ]
  },
  {
   "cell_type": "code",
   "execution_count": 39,
   "metadata": {},
   "outputs": [],
   "source": [
    "session = driver.session()"
   ]
  },
  {
   "cell_type": "code",
   "execution_count": 40,
   "metadata": {},
   "outputs": [],
   "source": [
    "def delete_all(session=session):\n",
    "    query = 'MATCH(n) DETACH DELETE n'\n",
    "    session.run(query)"
   ]
  },
  {
   "cell_type": "code",
   "execution_count": 41,
   "metadata": {},
   "outputs": [],
   "source": [
    "def delete_node(name, session=session):\n",
    "    query = 'MATCH (p) WHERE p.name = $name DETACH DELETE (p)'\n",
    "    session.run(query, name=name)"
   ]
  },
  {
   "cell_type": "code",
   "execution_count": 42,
   "metadata": {},
   "outputs": [],
   "source": [
    "def add_node(page_obj, session=session):\n",
    "    query = 'MERGE (p:Page:' + page_obj.ptype + '{name:$name, kind: $kind, url: $url})'\n",
    "    session.run(query, name=page_obj.name, kind=page_obj.kind, url=page_obj.url)"
   ]
  },
  {
   "cell_type": "code",
   "execution_count": 43,
   "metadata": {},
   "outputs": [],
   "source": [
    "def add_reference(page_from, page_to, session=session):\n",
    "    query = 'MATCH (a:Page) WHERE a.name = $from_node'\n",
    "    query += '\\nMATCH (b) WHERE b.name = $to_node'\n",
    "    query += '\\nMERGE (a)-[r:REFERENCE{visual:\\'-\\'}]->(b)'\n",
    "    session.run(query, from_node=page_from.name, to_node=page_to.name)"
   ]
  },
  {
   "cell_type": "code",
   "execution_count": 44,
   "metadata": {},
   "outputs": [],
   "source": [
    "def fill_references(url, session=session):\n",
    "    page = get_page_html(url)\n",
    "    current = Page(url)\n",
    "    add_node(current)\n",
    "    references = get_references(page)\n",
    "    for reference in references:\n",
    "        add_node(reference)\n",
    "        add_reference(current, reference)"
   ]
  },
  {
   "cell_type": "code",
   "execution_count": 52,
   "metadata": {},
   "outputs": [],
   "source": [
    "fill_references('/pmwiki/pmwiki.php/VideoGame/PlagueInc')"
   ]
  },
  {
   "cell_type": "code",
   "execution_count": 53,
   "metadata": {},
   "outputs": [],
   "source": [
    "fill_references('/pmwiki/pmwiki.php/TabletopGame/Pandemic')"
   ]
  },
  {
   "cell_type": "code",
   "execution_count": 54,
   "metadata": {},
   "outputs": [],
   "source": [
    "fill_references('/pmwiki/pmwiki.php/Film/Contagion')"
   ]
  },
  {
   "cell_type": "code",
   "execution_count": 55,
   "metadata": {},
   "outputs": [],
   "source": [
    "fill_references('/pmwiki/pmwiki.php/Film/TwentyEightDaysLater')"
   ]
  },
  {
   "cell_type": "code",
   "execution_count": 56,
   "metadata": {},
   "outputs": [],
   "source": [
    "fill_references('/pmwiki/pmwiki.php/VideoGame/Left4Dead')"
   ]
  },
  {
   "cell_type": "code",
   "execution_count": 50,
   "metadata": {},
   "outputs": [],
   "source": [
    "fill_references('/pmwiki/pmwiki.php/Main/ZombieApocalypse')"
   ]
  },
  {
   "cell_type": "code",
   "execution_count": 51,
   "metadata": {},
   "outputs": [],
   "source": [
    "delete_all()"
   ]
  },
  {
   "cell_type": "code",
   "execution_count": null,
   "metadata": {},
   "outputs": [],
   "source": []
  }
 ],
 "metadata": {
  "kernelspec": {
   "display_name": "Python 3",
   "language": "python",
   "name": "python3"
  },
  "language_info": {
   "codemirror_mode": {
    "name": "ipython",
    "version": 3
   },
   "file_extension": ".py",
   "mimetype": "text/x-python",
   "name": "python",
   "nbconvert_exporter": "python",
   "pygments_lexer": "ipython3",
   "version": "3.7.3"
  }
 },
 "nbformat": 4,
 "nbformat_minor": 4
}
