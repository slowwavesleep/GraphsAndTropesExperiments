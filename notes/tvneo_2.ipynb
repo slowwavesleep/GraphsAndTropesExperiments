{
 "cells": [
  {
   "cell_type": "code",
   "execution_count": 1,
   "metadata": {},
   "outputs": [],
   "source": [
    "from bs4 import BeautifulSoup as bs\n",
    "import requests\n",
    "import re\n",
    "import pandas as pd"
   ]
  },
  {
   "cell_type": "code",
   "execution_count": 2,
   "metadata": {},
   "outputs": [],
   "source": [
    "BASE_URL = 'https://tvtropes.org/'"
   ]
  },
  {
   "cell_type": "code",
   "execution_count": 3,
   "metadata": {},
   "outputs": [],
   "source": [
    "USER_AGENT = {'User-agent':\n",
    "              'Mozilla/5.0 (Windows NT 10.0; Win64; x64) AppleWebKit/537.36 (KHTML, like Gecko) Chrome/74.0.3729.169 Safari/537.36'}"
   ]
  },
  {
   "cell_type": "code",
   "execution_count": 4,
   "metadata": {},
   "outputs": [],
   "source": [
    "MEDIA = ('Anime', 'ComicBook', 'Fanfic', 'Film', 'Literature', 'Series',\n",
    "         'Myth', 'TabletopGame', 'Toys', 'Franchise', 'VideoGame',\n",
    "         'Webcomic', 'AudioPlay', 'WesternAnimation', 'Wrestling',\n",
    "         'Podcast', 'Music', 'Blog', 'ComicStrip', 'Theatre')"
   ]
  },
  {
   "cell_type": "code",
   "execution_count": 5,
   "metadata": {},
   "outputs": [],
   "source": [
    "def get_page_html(path, url=BASE_URL, user_agent=USER_AGENT):\n",
    "    url = url + path\n",
    "    html = requests.get(url, headers=user_agent).text\n",
    "    return bs(html)"
   ]
  },
  {
   "cell_type": "code",
   "execution_count": 6,
   "metadata": {},
   "outputs": [],
   "source": [
    "def get_current_url(page, base_url=BASE_URL):\n",
    "    offset = 0\n",
    "    url = page.find('p', {'id': 'current_url'}).text\n",
    "    url = strip_domain(url)\n",
    "    return url"
   ]
  },
  {
   "cell_type": "code",
   "execution_count": 7,
   "metadata": {},
   "outputs": [],
   "source": [
    "def strip_domain(url):\n",
    "    return re.sub(r'http.*.org/', '', url)"
   ]
  },
  {
   "cell_type": "code",
   "execution_count": 8,
   "metadata": {},
   "outputs": [],
   "source": [
    "def get_info_from_url(url):\n",
    "    kind, name = re.findall('php/([^/]+).*/([^/]+)$', url)[0]\n",
    "    return kind, name"
   ]
  },
  {
   "cell_type": "code",
   "execution_count": 9,
   "metadata": {},
   "outputs": [],
   "source": [
    "def type_from_kind(kind, media=MEDIA):\n",
    "    if kind == 'Main':\n",
    "        ptype = 'Trope'\n",
    "    elif kind == 'Creator':\n",
    "        ptype = 'Creator'\n",
    "    elif kind in media:\n",
    "        ptype = 'Work'\n",
    "    else:\n",
    "        ptype = 'Other'\n",
    "    return ptype"
   ]
  },
  {
   "cell_type": "code",
   "execution_count": 10,
   "metadata": {},
   "outputs": [],
   "source": [
    "class Page(object):\n",
    "    \n",
    "    def __init__(self, url):\n",
    "        self.url = strip_domain(url)\n",
    "        kind, name = get_info_from_url(url)\n",
    "        ptype = type_from_kind(kind)\n",
    "        self.kind = kind\n",
    "        self.name = name\n",
    "        self.ptype = ptype\n",
    "    \n",
    "    def __repr__(self):\n",
    "        return f'{self.ptype} : {self.name}'\n",
    "    "
   ]
  },
  {
   "cell_type": "code",
   "execution_count": 11,
   "metadata": {},
   "outputs": [],
   "source": [
    "def get_references(page):\n",
    "    references = []\n",
    "    url = get_current_url(page)\n",
    "    folders = page.findAll('div', {'class': 'folder'})\n",
    "    if folders:\n",
    "        lis = []\n",
    "        for folder in folders:\n",
    "            lis.extend(folder.findAll('li'))\n",
    "    else:\n",
    "        lis = page.find('h2').findNext('ul').findAll('li')\n",
    "    for li in lis:\n",
    "        links = li.findAll('a', {'class': 'twikilink'})\n",
    "        references.extend(links)\n",
    "    references = set([reference for reference in references if reference['href'] != url])\n",
    "    references = [Page(reference['href']) for reference in references]\n",
    "    references = [reference for reference in references if reference.ptype != 'Other']\n",
    "    return references\n",
    "        "
   ]
  },
  {
   "cell_type": "code",
   "execution_count": 12,
   "metadata": {},
   "outputs": [],
   "source": [
    "from neo4j import GraphDatabase, basic_auth"
   ]
  },
  {
   "cell_type": "code",
   "execution_count": 13,
   "metadata": {},
   "outputs": [],
   "source": [
    "driver = GraphDatabase.driver(\"bolt://0.0.0.0:7687\",\n",
    "                              basic_auth=(\"neo4j\", \"neo4j\"),\n",
    "                              encrypted=False)"
   ]
  },
  {
   "cell_type": "code",
   "execution_count": 14,
   "metadata": {},
   "outputs": [],
   "source": [
    "session = driver.session()"
   ]
  },
  {
   "cell_type": "code",
   "execution_count": 15,
   "metadata": {},
   "outputs": [],
   "source": [
    "def add_node(page_obj, session=session):\n",
    "    query = 'MERGE (p:Page:' + page_obj.ptype + '{name:$name, kind: $kind, url: $url})'\n",
    "    session.run(query, name=page_obj.name, kind=page_obj.kind, url=page_obj.url)"
   ]
  },
  {
   "cell_type": "code",
   "execution_count": 16,
   "metadata": {},
   "outputs": [],
   "source": [
    "add_node(Page('/pmwiki/pmwiki.php/VideoGame/PlagueInc'))"
   ]
  },
  {
   "cell_type": "code",
   "execution_count": 17,
   "metadata": {},
   "outputs": [],
   "source": [
    "def list_node_properties(url, session=session):\n",
    "    query = 'MATCH (n:Page{url: $url}) RETURN n'\n",
    "    return session.run(query, url=url).value()"
   ]
  },
  {
   "cell_type": "code",
   "execution_count": 18,
   "metadata": {},
   "outputs": [
    {
     "data": {
      "text/plain": [
       "[<Node id=1508 labels={'Work', 'Page'} properties={'name': 'PlagueInc', 'kind': 'VideoGame', 'url': '/pmwiki/pmwiki.php/VideoGame/PlagueInc'}>]"
      ]
     },
     "execution_count": 18,
     "metadata": {},
     "output_type": "execute_result"
    }
   ],
   "source": [
    "list_node_properties('/pmwiki/pmwiki.php/VideoGame/PlagueInc')"
   ]
  },
  {
   "cell_type": "code",
   "execution_count": 19,
   "metadata": {},
   "outputs": [],
   "source": [
    "def update_name(url, name, session=session):\n",
    "    query = 'MATCH (n:Page{url: $url}) SET n.name = $name'\n",
    "    session.run(query, url=url, name=name)"
   ]
  },
  {
   "cell_type": "code",
   "execution_count": 20,
   "metadata": {},
   "outputs": [],
   "source": [
    "update_name('/pmwiki/pmwiki.php/VideoGame/PlagueInc', 'test')"
   ]
  },
  {
   "cell_type": "code",
   "execution_count": 21,
   "metadata": {},
   "outputs": [
    {
     "data": {
      "text/plain": [
       "[<Node id=1508 labels={'Work', 'Page'} properties={'name': 'test', 'kind': 'VideoGame', 'url': '/pmwiki/pmwiki.php/VideoGame/PlagueInc'}>]"
      ]
     },
     "execution_count": 21,
     "metadata": {},
     "output_type": "execute_result"
    }
   ],
   "source": [
    "list_node_properties('/pmwiki/pmwiki.php/VideoGame/PlagueInc')"
   ]
  },
  {
   "cell_type": "code",
   "execution_count": 22,
   "metadata": {},
   "outputs": [],
   "source": [
    "def delete_node(url, session=session):\n",
    "    query = 'MATCH (p:Page{url: $url}) DETACH DELETE (p)'\n",
    "    session.run(query, url=url)"
   ]
  },
  {
   "cell_type": "code",
   "execution_count": 23,
   "metadata": {},
   "outputs": [],
   "source": [
    "delete_node('/pmwiki/pmwiki.php/VideoGame/PlagueInc')"
   ]
  },
  {
   "cell_type": "code",
   "execution_count": 24,
   "metadata": {},
   "outputs": [
    {
     "data": {
      "text/plain": [
       "[]"
      ]
     },
     "execution_count": 24,
     "metadata": {},
     "output_type": "execute_result"
    }
   ],
   "source": [
    "list_node_properties('/pmwiki/pmwiki.php/VideoGame/PlagueInc')"
   ]
  },
  {
   "cell_type": "code",
   "execution_count": 25,
   "metadata": {},
   "outputs": [],
   "source": [
    "def delete_all(session=session):\n",
    "    query = 'MATCH(n) DETACH DELETE n'\n",
    "    session.run(query)"
   ]
  },
  {
   "cell_type": "code",
   "execution_count": 26,
   "metadata": {},
   "outputs": [],
   "source": [
    "delete_all()"
   ]
  },
  {
   "cell_type": "code",
   "execution_count": 27,
   "metadata": {},
   "outputs": [],
   "source": [
    "def add_reference(page_from, page_to, session=session):\n",
    "    query = 'MATCH (a:Page) WHERE a.name = $from_node'\n",
    "    query += '\\nMATCH (b) WHERE b.name = $to_node'\n",
    "    query += '\\nMERGE (a)-[r:REFERENCE{visual:\\'-\\'}]->(b)'\n",
    "    session.run(query, from_node=page_from.name, to_node=page_to.name)"
   ]
  },
  {
   "cell_type": "code",
   "execution_count": 28,
   "metadata": {},
   "outputs": [],
   "source": [
    "def fill_references(url, session=session):\n",
    "    '''\n",
    "    Create a node and add references.\n",
    "    '''\n",
    "    page = get_page_html(url)\n",
    "    current = Page(url)\n",
    "    add_node(current)\n",
    "    references = get_references(page)\n",
    "    for reference in references:\n",
    "        add_node(reference)\n",
    "        add_reference(current, reference)"
   ]
  },
  {
   "cell_type": "code",
   "execution_count": 29,
   "metadata": {},
   "outputs": [],
   "source": [
    "def get_nodes_n(session=session):\n",
    "    '''\n",
    "    Return the total number of nodes in the datebase.\n",
    "    '''\n",
    "    query = 'MATCH (n) RETURN count(n) as count'\n",
    "    return session.run(query).single()['count']"
   ]
  },
  {
   "cell_type": "code",
   "execution_count": 30,
   "metadata": {},
   "outputs": [],
   "source": [
    "def get_edges_n(session=session):\n",
    "    '''\n",
    "    Return the total number of edges in the datebase.\n",
    "    '''\n",
    "    query = 'MATCH ()-[r]-() RETURN count(r) as count'\n",
    "    return session.run(query).single()['count']"
   ]
  },
  {
   "cell_type": "code",
   "execution_count": 31,
   "metadata": {},
   "outputs": [],
   "source": [
    "def get_node_edges(url, session=session):\n",
    "    query = 'MATCH ()-[r]-({url: $url}) RETURN count(r)'\n",
    "    return session.run(query, url=url).value()[0]"
   ]
  },
  {
   "cell_type": "code",
   "execution_count": 32,
   "metadata": {},
   "outputs": [],
   "source": [
    "def get_urls(session=session):\n",
    "    '''\n",
    "    List url of each node it the database.\n",
    "    '''\n",
    "    query = 'MATCH (n:Page) RETURN n.url'\n",
    "    result = session.run(query).values()\n",
    "    return  [record[0] for record in result]"
   ]
  },
  {
   "cell_type": "code",
   "execution_count": 33,
   "metadata": {},
   "outputs": [],
   "source": [
    "from collections import Counter\n",
    "\n",
    "def list_mutual_neigbors(n=10, session=session):\n",
    "    '''\n",
    "    Returns n most common tropes referenced by at least two works.\n",
    "    '''\n",
    "    query = 'MATCH (a:Work)-[:REFERENCE]->(t:Trope)<-[:REFERENCE]-(b:Work) RETURN t.url'\n",
    "    records = session.run(query).records()\n",
    "    records = Counter([record.value() for record in records])\n",
    "    return records.most_common(n)"
   ]
  },
  {
   "cell_type": "markdown",
   "metadata": {},
   "source": [
    "[The Common Neighbors algorithm](https://neo4j.com/docs/graph-algorithms/current/labs-algorithms/common-neighbors/)"
   ]
  },
  {
   "cell_type": "code",
   "execution_count": 34,
   "metadata": {},
   "outputs": [],
   "source": [
    "def common_neighbors(url1, url2, session=session):\n",
    "    query = 'MATCH (p1:Page{url:$url1})'\n",
    "    query += 'MATCH (p2:Page{url:$url2})'\n",
    "    query += 'RETURN algo.linkprediction.commonNeighbors(p1, p2) AS score'\n",
    "    return session.run(query, url1=url1, url2=url2).value()[0]"
   ]
  },
  {
   "cell_type": "markdown",
   "metadata": {},
   "source": [
    "Random Walk"
   ]
  },
  {
   "cell_type": "code",
   "execution_count": 35,
   "metadata": {},
   "outputs": [],
   "source": [
    "def random_walk(url, steps=3, walks=1, session=session):\n",
    "    query = '''MATCH (home:Page {url: $url})\n",
    "               CALL algo.randomWalk.stream(id(home), $steps, $walks)\n",
    "               YIELD nodeIds\n",
    "\n",
    "               UNWIND nodeIds AS nodeId\n",
    "\n",
    "               RETURN algo.asNode(nodeId).url AS page'''\n",
    "    return session.run(query, url=url, steps=steps, walks=walks)"
   ]
  },
  {
   "cell_type": "markdown",
   "metadata": {},
   "source": [
    "Similarity algorithms utilize node properties which aren't used at the moment."
   ]
  },
  {
   "cell_type": "markdown",
   "metadata": {},
   "source": [
    "Graph statistics"
   ]
  },
  {
   "cell_type": "code",
   "execution_count": 36,
   "metadata": {},
   "outputs": [],
   "source": [
    "def graph_stats(session=session):\n",
    "    '''\n",
    "    Returns stats of the graph in the current database.\n",
    "    '''\n",
    "    query = '''MATCH (p:Page)\n",
    "               RETURN avg(apoc.node.degree(p,'REFERENCE')) as average_refs,\n",
    "               stdev(apoc.node.degree(p,'REFERENCE')) as stdev_refs,\n",
    "               max(apoc.node.degree(p,'REFERENCE')) as max_refs,\n",
    "               min(apoc.node.degree(p,'REFERENCE')) as min_refs'''\n",
    "    records = session.run(query)\n",
    "    records = [record for record in records.records()][0]\n",
    "    result = {}\n",
    "    result['average_refs'] = records['average_refs']\n",
    "    result['stdev_refs'] = records['stdev_refs']\n",
    "    result['max_refs'] = records['max_refs']\n",
    "    result['min_refs'] = records['min_refs']\n",
    "    return result"
   ]
  },
  {
   "cell_type": "markdown",
   "metadata": {},
   "source": [
    "Article materials:"
   ]
  },
  {
   "cell_type": "code",
   "execution_count": 37,
   "metadata": {},
   "outputs": [],
   "source": [
    "fill_references('/pmwiki/pmwiki.php/VideoGame/PlagueInc')"
   ]
  },
  {
   "cell_type": "code",
   "execution_count": 38,
   "metadata": {},
   "outputs": [],
   "source": [
    "fill_references('/pmwiki/pmwiki.php/TabletopGame/Pandemic')"
   ]
  },
  {
   "cell_type": "code",
   "execution_count": 39,
   "metadata": {},
   "outputs": [],
   "source": [
    "fill_references('/pmwiki/pmwiki.php/Film/Contagion')"
   ]
  },
  {
   "cell_type": "code",
   "execution_count": 40,
   "metadata": {},
   "outputs": [],
   "source": [
    "fill_references('/pmwiki/pmwiki.php/Film/TwentyEightDaysLater')"
   ]
  },
  {
   "cell_type": "code",
   "execution_count": 41,
   "metadata": {},
   "outputs": [],
   "source": [
    "fill_references('/pmwiki/pmwiki.php/VideoGame/Left4Dead')"
   ]
  },
  {
   "cell_type": "code",
   "execution_count": 42,
   "metadata": {},
   "outputs": [],
   "source": [
    "fill_references('/pmwiki/pmwiki.php/Main/ZombieApocalypse')"
   ]
  },
  {
   "cell_type": "code",
   "execution_count": 43,
   "metadata": {},
   "outputs": [
    {
     "data": {
      "text/plain": [
       "[('/pmwiki/pmwiki.php/Main/ZombieApocalypse', 30),\n",
       " ('/pmwiki/pmwiki.php/Main/ShoutOut', 30),\n",
       " ('/pmwiki/pmwiki.php/Main/ThePlague', 20),\n",
       " ('/pmwiki/pmwiki.php/Main/AwesomeButImpractical', 20),\n",
       " ('/pmwiki/pmwiki.php/Main/PatientZero', 20),\n",
       " ('/pmwiki/pmwiki.php/Main/ApocalypseHow', 20),\n",
       " ('/pmwiki/pmwiki.php/Main/LighterAndSofter', 12),\n",
       " ('/pmwiki/pmwiki.php/Main/SyntheticPlague', 12),\n",
       " ('/pmwiki/pmwiki.php/Main/KillEmAll', 12),\n",
       " ('/pmwiki/pmwiki.php/Main/NiceJobBreakingItHero', 12)]"
      ]
     },
     "execution_count": 43,
     "metadata": {},
     "output_type": "execute_result"
    }
   ],
   "source": [
    "list_mutual_neigbors()"
   ]
  },
  {
   "cell_type": "code",
   "execution_count": 44,
   "metadata": {},
   "outputs": [
    {
     "data": {
      "text/plain": [
       "['/pmwiki/pmwiki.php/Main/TwentyMinutesIntoTheFuture',\n",
       " '/pmwiki/pmwiki.php/Main/ArtificialLimbs',\n",
       " '/pmwiki/pmwiki.php/Main/BrainwashingForTheGreaterGood',\n",
       " '/pmwiki/pmwiki.php/Main/CompositeCharacter',\n",
       " '/pmwiki/pmwiki.php/Main/TheBlackDeath',\n",
       " '/pmwiki/pmwiki.php/Main/HiroshimaAsAUnitOfMeasure',\n",
       " '/pmwiki/pmwiki.php/Main/MarathonLevel',\n",
       " '/pmwiki/pmwiki.php/Main/SaveScumming',\n",
       " '/pmwiki/pmwiki.php/Main/CrackDefeat',\n",
       " '/pmwiki/pmwiki.php/Main/IDidWhatIHadToDo']"
      ]
     },
     "execution_count": 44,
     "metadata": {},
     "output_type": "execute_result"
    }
   ],
   "source": [
    "get_urls()[:10]"
   ]
  },
  {
   "cell_type": "markdown",
   "metadata": {},
   "source": [
    "Testing statistics functions"
   ]
  },
  {
   "cell_type": "markdown",
   "metadata": {},
   "source": [
    "Summary of graph stats"
   ]
  },
  {
   "cell_type": "code",
   "execution_count": 45,
   "metadata": {
    "scrolled": false
   },
   "outputs": [
    {
     "data": {
      "text/plain": [
       "{'average_refs': 3.1379529561347757,\n",
       " 'stdev_refs': 28.862346199199703,\n",
       " 'max_refs': 868,\n",
       " 'min_refs': 1}"
      ]
     },
     "execution_count": 45,
     "metadata": {},
     "output_type": "execute_result"
    }
   ],
   "source": [
    "graph_stats()"
   ]
  },
  {
   "cell_type": "markdown",
   "metadata": {},
   "source": [
    "Total edges"
   ]
  },
  {
   "cell_type": "code",
   "execution_count": 46,
   "metadata": {},
   "outputs": [
    {
     "data": {
      "text/plain": [
       "4936"
      ]
     },
     "execution_count": 46,
     "metadata": {},
     "output_type": "execute_result"
    }
   ],
   "source": [
    "get_edges_n()"
   ]
  },
  {
   "cell_type": "markdown",
   "metadata": {},
   "source": [
    "Total nodes"
   ]
  },
  {
   "cell_type": "code",
   "execution_count": 47,
   "metadata": {},
   "outputs": [
    {
     "data": {
      "text/plain": [
       "1573"
      ]
     },
     "execution_count": 47,
     "metadata": {},
     "output_type": "execute_result"
    }
   ],
   "source": [
    "get_nodes_n()"
   ]
  },
  {
   "cell_type": "markdown",
   "metadata": {},
   "source": [
    "Overall ratio of edges to nodes"
   ]
  },
  {
   "cell_type": "code",
   "execution_count": 48,
   "metadata": {
    "scrolled": true
   },
   "outputs": [
    {
     "data": {
      "text/plain": [
       "3.1379529561347743"
      ]
     },
     "execution_count": 48,
     "metadata": {},
     "output_type": "execute_result"
    }
   ],
   "source": [
    "get_edges_n()/get_nodes_n()"
   ]
  },
  {
   "cell_type": "markdown",
   "metadata": {},
   "source": [
    "Number of edges of a particular node"
   ]
  },
  {
   "cell_type": "code",
   "execution_count": 49,
   "metadata": {},
   "outputs": [
    {
     "data": {
      "text/plain": [
       "207"
      ]
     },
     "execution_count": 49,
     "metadata": {},
     "output_type": "execute_result"
    }
   ],
   "source": [
    "get_node_edges('/pmwiki/pmwiki.php/VideoGame/PlagueInc')"
   ]
  },
  {
   "cell_type": "markdown",
   "metadata": {},
   "source": [
    "Testing Common Neighbors"
   ]
  },
  {
   "cell_type": "markdown",
   "metadata": {},
   "source": [
    "Adding more nodes for comparison"
   ]
  },
  {
   "cell_type": "code",
   "execution_count": 50,
   "metadata": {},
   "outputs": [],
   "source": [
    "fill_references('/pmwiki/pmwiki.php/VideoGame/Halo3')"
   ]
  },
  {
   "cell_type": "code",
   "execution_count": 51,
   "metadata": {},
   "outputs": [],
   "source": [
    "fill_references('/pmwiki/pmwiki.php/VideoGame/ResidentEvil2')"
   ]
  },
  {
   "cell_type": "code",
   "execution_count": 52,
   "metadata": {},
   "outputs": [],
   "source": [
    "fill_references('/pmwiki/pmwiki.php/VideoGame/CrashBandicoot')"
   ]
  },
  {
   "cell_type": "code",
   "execution_count": 53,
   "metadata": {},
   "outputs": [],
   "source": [
    "fill_references('/pmwiki/pmwiki.php/Film/Convict13')"
   ]
  },
  {
   "cell_type": "code",
   "execution_count": 54,
   "metadata": {},
   "outputs": [],
   "source": [
    "fill_references('/pmwiki/pmwiki.php/Film/ThePlayhouse')"
   ]
  },
  {
   "cell_type": "code",
   "execution_count": 55,
   "metadata": {},
   "outputs": [
    {
     "data": {
      "text/plain": [
       "14.0"
      ]
     },
     "execution_count": 55,
     "metadata": {},
     "output_type": "execute_result"
    }
   ],
   "source": [
    "common_neighbors('/pmwiki/pmwiki.php/VideoGame/PlagueInc', '/pmwiki/pmwiki.php/TabletopGame/Pandemic')"
   ]
  },
  {
   "cell_type": "code",
   "execution_count": 56,
   "metadata": {},
   "outputs": [
    {
     "data": {
      "text/plain": [
       "16.0"
      ]
     },
     "execution_count": 56,
     "metadata": {},
     "output_type": "execute_result"
    }
   ],
   "source": [
    "common_neighbors('/pmwiki/pmwiki.php/VideoGame/ResidentEvil2', '/pmwiki/pmwiki.php/VideoGame/Halo3')"
   ]
  },
  {
   "cell_type": "code",
   "execution_count": 57,
   "metadata": {},
   "outputs": [
    {
     "data": {
      "text/plain": [
       "13.0"
      ]
     },
     "execution_count": 57,
     "metadata": {},
     "output_type": "execute_result"
    }
   ],
   "source": [
    "common_neighbors('/pmwiki/pmwiki.php/Film/TwentyEightDaysLater', '/pmwiki/pmwiki.php/VideoGame/CrashBandicoot')"
   ]
  },
  {
   "cell_type": "code",
   "execution_count": 58,
   "metadata": {},
   "outputs": [
    {
     "data": {
      "text/plain": [
       "0.0"
      ]
     },
     "execution_count": 58,
     "metadata": {},
     "output_type": "execute_result"
    }
   ],
   "source": [
    "common_neighbors('/pmwiki/pmwiki.php/VideoGame/PlagueInc', '/pmwiki/pmwiki.php/Film/Convict13')"
   ]
  },
  {
   "cell_type": "code",
   "execution_count": 59,
   "metadata": {},
   "outputs": [
    {
     "data": {
      "text/plain": [
       "5.0"
      ]
     },
     "execution_count": 59,
     "metadata": {},
     "output_type": "execute_result"
    }
   ],
   "source": [
    "common_neighbors('/pmwiki/pmwiki.php/Film/ThePlayhouse', '/pmwiki/pmwiki.php/Film/Convict13')"
   ]
  },
  {
   "cell_type": "markdown",
   "metadata": {},
   "source": [
    "Testing Random Walk"
   ]
  },
  {
   "cell_type": "code",
   "execution_count": 60,
   "metadata": {},
   "outputs": [
    {
     "data": {
      "text/plain": [
       "[['/pmwiki/pmwiki.php/VideoGame/Halo3'],\n",
       " ['/pmwiki/pmwiki.php/Main/Tyrannicide'],\n",
       " ['/pmwiki/pmwiki.php/VideoGame/Halo3'],\n",
       " ['/pmwiki/pmwiki.php/Literature/HaloHuntersInTheDark'],\n",
       " ['/pmwiki/pmwiki.php/VideoGame/Halo3'],\n",
       " ['/pmwiki/pmwiki.php/VideoGame/NinjaGaiden']]"
      ]
     },
     "execution_count": 60,
     "metadata": {},
     "output_type": "execute_result"
    }
   ],
   "source": [
    "random_walk('/pmwiki/pmwiki.php/VideoGame/Halo3', steps=5).values()"
   ]
  },
  {
   "cell_type": "code",
   "execution_count": null,
   "metadata": {},
   "outputs": [],
   "source": []
  },
  {
   "cell_type": "code",
   "execution_count": null,
   "metadata": {},
   "outputs": [],
   "source": []
  }
 ],
 "metadata": {
  "kernelspec": {
   "display_name": "Python 3",
   "language": "python",
   "name": "python3"
  },
  "language_info": {
   "codemirror_mode": {
    "name": "ipython",
    "version": 3
   },
   "file_extension": ".py",
   "mimetype": "text/x-python",
   "name": "python",
   "nbconvert_exporter": "python",
   "pygments_lexer": "ipython3",
   "version": "3.7.6"
  }
 },
 "nbformat": 4,
 "nbformat_minor": 4
}
